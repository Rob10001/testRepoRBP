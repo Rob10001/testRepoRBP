{
 "cells": [
  {
   "cell_type": "code",
   "execution_count": 3,
   "id": "a5e6e4ec-7198-414a-98d2-48f838b6f108",
   "metadata": {},
   "outputs": [],
   "source": [
    "import pandas as pd\n",
    "import numpy as np"
   ]
  },
  {
   "cell_type": "code",
   "execution_count": 5,
   "id": "56966181-89b4-42bd-9146-730ff0c16896",
   "metadata": {},
   "outputs": [],
   "source": [
    "test = open(\"smallerFiggieProbabilities.csv\")\n",
    "dealt_hands = []\n",
    "for line in test.readlines():\n",
    "    hand = np.fromstring(line, sep = \",\")\n",
    "    hand = np.delete(hand, -1)\n",
    "    hand = hand.reshape(5, 4)\n",
    "    hand = hand.astype(int)\n",
    "    dealt_hands.append(pd.DataFrame(data = hand[1:][:], index = np.arange(4), columns = hand[0][:]))"
   ]
  },
  {
   "cell_type": "code",
   "execution_count": 7,
   "id": "3f16eed0-1f22-439f-9fa7-f88243b4bacb",
   "metadata": {},
   "outputs": [],
   "source": [
    "import matplotlib.pyplot as plt\n",
    "import seaborn as sns"
   ]
  },
  {
   "cell_type": "code",
   "execution_count": 8,
   "id": "56dec052-c7f5-4801-96e0-1aa00ef965a4",
   "metadata": {},
   "outputs": [
    {
     "data": {
      "image/png": "[encoded data removed]",
      "text/plain": [
       "<Figure size 640x480 with 1 Axes>"
      ]
     },
     "metadata": {},
     "output_type": "display_data"
    },
    {
     "name": "stdout",
     "output_type": "stream",
     "text": [
      "12: 0.0947814039408867\n",
      "64960\n",
      "10: 0.43754618226600983\n",
      "8: 0.4676724137931034\n"
     ]
    }
   ],
   "source": [
    "hand_frequencies = []\n",
    "for hand in dealt_hands:\n",
    "    for index, row in hand.iterrows():\n",
    "        #print(\"Row:\")\n",
    "        #print(row)\n",
    "        column_names = np.where(row.iloc[:] == 0)\n",
    "        #print(\"Column Indexes:\")\n",
    "        #print(column_names)\n",
    "        for column in column_names:\n",
    "            hand_frequencies.extend(hand.columns[column])\n",
    "            #print(\"Column Index:\")\n",
    "            #print(column)\n",
    "            #print(\"Column Suit Number:\")\n",
    "            #print(hand.columns[column])\n",
    "#print(hand_frequencies)\n",
    "df = pd.DataFrame(data = hand_frequencies, columns = [\"x\"], index = np.arange(len(hand_frequencies)))\n",
    "sns.countplot(x = \"x\", data = df)\n",
    "plt.show()\n",
    "print(\"12: \" + str(hand_frequencies.count(12)/len(hand_frequencies)))\n",
    "print(len(hand_frequencies))\n",
    "print(\"10: \" + str(hand_frequencies.count(10)/len(hand_frequencies)))\n",
    "print(\"8: \" + str(hand_frequencies.count(8)/len(hand_frequencies)))\n"
   ]
  },
  {
   "cell_type": "code",
   "execution_count": null,
   "id": "8bfca9c3-f6f9-478d-b8c6-771299a183e6",
   "metadata": {},
   "outputs": [],
   "source": []
  },
  {
   "cell_type": "code",
   "execution_count": 11,
   "id": "e1e6997c-6324-4aca-93f9-e3bcc025d889",
   "metadata": {},
   "outputs": [],
   "source": [
    "unmerged_distributions = [df.loc[:, i::4] for i in range(4)]\n",
    "for distribution in unmerged_distributions:\n",
    "    distribution.columns = [\"0\", \"1\", \"2\", \"3\", \"4\"]"
   ]
  },
  {
   "cell_type": "markdown",
   "id": "a4d03ab3-853d-4ea9-9d53-ed20d7b3e866",
   "metadata": {},
   "source": [
    "# First look at card distributions of common, ten, and eight."
   ]
  },
  {
   "cell_type": "code",
   "execution_count": 14,
   "id": "d5d54db5-3bee-42ea-a747-822fef65c27e",
   "metadata": {},
   "outputs": [
    {
     "data": {
      "text/html": [
       "<div>\n",
       "<style scoped>\n",
       "    .dataframe tbody tr th:only-of-type {\n",
       "        vertical-align: middle;\n",
       "    }\n",
       "\n",
       "    .dataframe tbody tr th {\n",
       "        vertical-align: top;\n",
       "    }\n",
       "\n",
       "    .dataframe thead th {\n",
       "        text-align: right;\n",
       "    }\n",
       "</style>\n",
       "<table border=\"1\" class=\"dataframe\">\n",
       "  <thead>\n",
       "    <tr style=\"text-align: right;\">\n",
       "      <th></th>\n",
       "      <th>0</th>\n",
       "      <th>1</th>\n",
       "      <th>2</th>\n",
       "      <th>3</th>\n",
       "      <th>4</th>\n",
       "    </tr>\n",
       "  </thead>\n",
       "  <tbody>\n",
       "    <tr>\n",
       "      <th>0</th>\n",
       "      <td>12</td>\n",
       "      <td>3</td>\n",
       "      <td>4</td>\n",
       "      <td>1</td>\n",
       "      <td>4</td>\n",
       "    </tr>\n",
       "    <tr>\n",
       "      <th>1</th>\n",
       "      <td>8</td>\n",
       "      <td>3</td>\n",
       "      <td>1</td>\n",
       "      <td>1</td>\n",
       "      <td>3</td>\n",
       "    </tr>\n",
       "    <tr>\n",
       "      <th>2</th>\n",
       "      <td>8</td>\n",
       "      <td>2</td>\n",
       "      <td>1</td>\n",
       "      <td>4</td>\n",
       "      <td>1</td>\n",
       "    </tr>\n",
       "    <tr>\n",
       "      <th>3</th>\n",
       "      <td>12</td>\n",
       "      <td>2</td>\n",
       "      <td>4</td>\n",
       "      <td>3</td>\n",
       "      <td>3</td>\n",
       "    </tr>\n",
       "    <tr>\n",
       "      <th>4</th>\n",
       "      <td>12</td>\n",
       "      <td>4</td>\n",
       "      <td>3</td>\n",
       "      <td>2</td>\n",
       "      <td>3</td>\n",
       "    </tr>\n",
       "    <tr>\n",
       "      <th>...</th>\n",
       "      <td>...</td>\n",
       "      <td>...</td>\n",
       "      <td>...</td>\n",
       "      <td>...</td>\n",
       "      <td>...</td>\n",
       "    </tr>\n",
       "    <tr>\n",
       "      <th>999995</th>\n",
       "      <td>12</td>\n",
       "      <td>3</td>\n",
       "      <td>4</td>\n",
       "      <td>3</td>\n",
       "      <td>2</td>\n",
       "    </tr>\n",
       "    <tr>\n",
       "      <th>999996</th>\n",
       "      <td>8</td>\n",
       "      <td>1</td>\n",
       "      <td>4</td>\n",
       "      <td>2</td>\n",
       "      <td>1</td>\n",
       "    </tr>\n",
       "    <tr>\n",
       "      <th>999997</th>\n",
       "      <td>8</td>\n",
       "      <td>3</td>\n",
       "      <td>2</td>\n",
       "      <td>2</td>\n",
       "      <td>1</td>\n",
       "    </tr>\n",
       "    <tr>\n",
       "      <th>999998</th>\n",
       "      <td>12</td>\n",
       "      <td>2</td>\n",
       "      <td>4</td>\n",
       "      <td>5</td>\n",
       "      <td>1</td>\n",
       "    </tr>\n",
       "    <tr>\n",
       "      <th>999999</th>\n",
       "      <td>8</td>\n",
       "      <td>3</td>\n",
       "      <td>1</td>\n",
       "      <td>3</td>\n",
       "      <td>1</td>\n",
       "    </tr>\n",
       "  </tbody>\n",
       "</table>\n",
       "<p>4000000 rows × 5 columns</p>\n",
       "</div>"
      ],
      "text/plain": [
       "         0  1  2  3  4\n",
       "0       12  3  4  1  4\n",
       "1        8  3  1  1  3\n",
       "2        8  2  1  4  1\n",
       "3       12  2  4  3  3\n",
       "4       12  4  3  2  3\n",
       "...     .. .. .. .. ..\n",
       "999995  12  3  4  3  2\n",
       "999996   8  1  4  2  1\n",
       "999997   8  3  2  2  1\n",
       "999998  12  2  4  5  1\n",
       "999999   8  3  1  3  1\n",
       "\n",
       "[4000000 rows x 5 columns]"
      ]
     },
     "execution_count": 14,
     "metadata": {},
     "output_type": "execute_result"
    }
   ],
   "source": [
    "merged_distributions = pd.concat(unmerged_distributions)\n",
    "common_freq = np.zeros(13)\n",
    "ten_freq = np.zeros(11)\n",
    "eight_freq = np.zeros(9)\n",
    "merged_distributions"
   ]
  },
  {
   "cell_type": "code",
   "execution_count": 16,
   "id": "11e6b501-ca5d-4a64-9bda-9af7b639e1a8",
   "metadata": {},
   "outputs": [],
   "source": [
    "import matplotlib.pyplot as plt\n",
    "import seaborn as sns"
   ]
  },
  {
   "cell_type": "code",
   "execution_count": null,
   "id": "429524b1-0deb-4a95-b4b0-c461f71151da",
   "metadata": {},
   "outputs": [],
   "source": [
    "for number, row in merged_distributions.iterrows():\n",
    "    if row.iloc[0] == 12:\n",
    "        for card in row.iloc[1:]:\n",
    "            common_freq[card] += 1\n",
    "    if row.iloc[0] == 10:\n",
    "        for card in row.iloc[1:]:\n",
    "            ten_freq[card] += 1\n",
    "    if row.iloc[0] == 8:\n",
    "        for card in row.iloc[1:]:\n",
    "            eight_freq[card] += 1\n",
    "            "
   ]
  },
  {
   "cell_type": "code",
   "execution_count": null,
   "id": "b88ede8d-f768-4e7b-b17e-f39cb1c5ee34",
   "metadata": {},
   "outputs": [],
   "source": [
    "display(common_freq)\n",
    "display(ten_freq)\n",
    "display(eight_freq)"
   ]
  },
  {
   "cell_type": "code",
   "execution_count": 22,
   "id": "a9c56a61-f560-40f7-91b1-7e7a8f9d2731",
   "metadata": {},
   "outputs": [],
   "source": [
    "common_freq = common_freq/sum(common_freq)"
   ]
  },
  {
   "cell_type": "code",
   "execution_count": 36,
   "id": "784f4191-2a0e-4ade-9467-cc8547c46fc8",
   "metadata": {},
   "outputs": [
    {
     "data": {
      "image/png": "[encoded data removed]",
      "text/plain": [
       "<Figure size 640x480 with 1 Axes>"
      ]
     },
     "metadata": {},
     "output_type": "display_data"
    }
   ],
   "source": [
    "plt.bar(np.arange(13), common_freq)\n",
    "plt.show()"
   ]
  },
  {
   "cell_type": "code",
   "execution_count": null,
   "id": "12d01aa7-84ba-4535-9f88-53f2f41faff2",
   "metadata": {},
   "outputs": [],
   "source": []
  }
 ],
 "metadata": {
  "kernelspec": {
   "display_name": "Python 3 (ipykernel)",
   "language": "python",
   "name": "python3"
  },
  "language_info": {
   "codemirror_mode": {
    "name": "ipython",
    "version": 3
   },
   "file_extension": ".py",
   "mimetype": "text/x-python",
   "name": "python",
   "nbconvert_exporter": "python",
   "pygments_lexer": "ipython3",
   "version": "3.12.4"
  }
 },
 "nbformat": 4,
 "nbformat_minor": 5
}
